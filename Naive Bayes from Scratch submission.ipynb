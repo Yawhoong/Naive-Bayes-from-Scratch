{
 "cells": [
  {
   "cell_type": "markdown",
   "metadata": {},
   "source": [
    "## Naive Bayes Classification"
   ]
  },
  {
   "cell_type": "markdown",
   "metadata": {},
   "source": [
    "In Naive Bayes, the probability of Event A happening given Condition B is given by the formula:"
   ]
  },
  {
   "cell_type": "markdown",
   "metadata": {},
   "source": [
    "<img src=\"img/NaiveBayes1.png\" width=200 height=10 />"
   ]
  },
  {
   "cell_type": "markdown",
   "metadata": {},
   "source": [
    "In a classifier, this can be rewritten as the probability of Class Y happening given Input X:"
   ]
  },
  {
   "cell_type": "markdown",
   "metadata": {},
   "source": [
    "<img src=\"img/NaiveBayesXY.png\" width=200 height=10 />"
   ]
  },
  {
   "cell_type": "markdown",
   "metadata": {},
   "source": [
    "When there are multiple inputs X1, X2, ... Xn, the formula becomes:"
   ]
  },
  {
   "cell_type": "markdown",
   "metadata": {},
   "source": [
    "<img src=\"img/NaiveBayesXnY.png\" width=420 height=10 /> "
   ]
  },
  {
   "cell_type": "markdown",
   "metadata": {},
   "source": [
    "When there are multiple classes of Y, the above formula repeats for each class of Y: ie Y0, Y1, ... Yn etc"
   ]
  },
  {
   "cell_type": "markdown",
   "metadata": {},
   "source": [
    "When using Naive Bayes for prediction, we are trying to find out which class of Y has the highest probability of happening."
   ]
  },
  {
   "cell_type": "markdown",
   "metadata": {},
   "source": [
    "We therefore calculate the P(y|x) for each class of Y, and see which P(y|x) is the maximum"
   ]
  },
  {
   "cell_type": "markdown",
   "metadata": {},
   "source": [
    "Since the denominator P(x1)P(x2)...P(xn) is constant among all P(y|x), the denominator is removed from the calculation.  Therefore, the outcome of the formula DOES NOT show the actual predicted probability for each class.  It merely shows which class has the highest probability among the classes"
   ]
  },
  {
   "cell_type": "markdown",
   "metadata": {},
   "source": [
    "Therefore, the likelihood of the data belonging to a certain Class Y given inputs X1, X2, ... Xn is given by the formula:"
   ]
  },
  {
   "cell_type": "markdown",
   "metadata": {},
   "source": [
    "<img src=\"img/NaiveBayesXYargmax.png\" width=250 height=10 />"
   ]
  },
  {
   "cell_type": "markdown",
   "metadata": {},
   "source": [
    "P(x|y), or probability of input X given class Y, is estimated from the Gaussian probability density function of X for each class of Y"
   ]
  },
  {
   "cell_type": "markdown",
   "metadata": {},
   "source": [
    "P(y), or probability of a certain Class Y happening, is simply the number of Class Y divided by the total number of all Y"
   ]
  },
  {
   "cell_type": "markdown",
   "metadata": {},
   "source": [
    "All formulas in the notebook are written from scratch as much as possible.  Only basic functions in Python such as mean, square root, standard deviation, exponential and pi are used "
   ]
  },
  {
   "cell_type": "markdown",
   "metadata": {},
   "source": [
    "#### Read in the data"
   ]
  },
  {
   "cell_type": "code",
   "execution_count": 1,
   "metadata": {},
   "outputs": [],
   "source": [
    "import pandas as pd\n",
    "import numpy as np\n",
    "from math import sqrt\n",
    "from math import exp\n",
    "from math import pi\n",
    "import random"
   ]
  },
  {
   "cell_type": "code",
   "execution_count": 2,
   "metadata": {},
   "outputs": [],
   "source": [
    "df = pd.read_csv('SensorData.csv')"
   ]
  },
  {
   "cell_type": "code",
   "execution_count": 210,
   "metadata": {},
   "outputs": [],
   "source": [
    "df = pd.read_csv('GeneratedData.csv')"
   ]
  },
  {
   "cell_type": "code",
   "execution_count": 3,
   "metadata": {
    "scrolled": false
   },
   "outputs": [
    {
     "data": {
      "text/plain": [
       "light_intensity      int64\n",
       "temperature        float64\n",
       "humidity           float64\n",
       "label                int64\n",
       "dtype: object"
      ]
     },
     "execution_count": 3,
     "metadata": {},
     "output_type": "execute_result"
    }
   ],
   "source": [
    "df.dtypes"
   ]
  },
  {
   "cell_type": "code",
   "execution_count": 4,
   "metadata": {},
   "outputs": [],
   "source": [
    "df = df.sample(frac=1).reset_index(drop=True)  # reset index and shuffle the df"
   ]
  },
  {
   "cell_type": "code",
   "execution_count": 5,
   "metadata": {
    "scrolled": true
   },
   "outputs": [
    {
     "data": {
      "text/html": [
       "<div>\n",
       "<style scoped>\n",
       "    .dataframe tbody tr th:only-of-type {\n",
       "        vertical-align: middle;\n",
       "    }\n",
       "\n",
       "    .dataframe tbody tr th {\n",
       "        vertical-align: top;\n",
       "    }\n",
       "\n",
       "    .dataframe thead th {\n",
       "        text-align: right;\n",
       "    }\n",
       "</style>\n",
       "<table border=\"1\" class=\"dataframe\">\n",
       "  <thead>\n",
       "    <tr style=\"text-align: right;\">\n",
       "      <th></th>\n",
       "      <th>light_intensity</th>\n",
       "      <th>temperature</th>\n",
       "      <th>humidity</th>\n",
       "      <th>label</th>\n",
       "    </tr>\n",
       "  </thead>\n",
       "  <tbody>\n",
       "    <tr>\n",
       "      <th>0</th>\n",
       "      <td>99</td>\n",
       "      <td>23.92</td>\n",
       "      <td>73.8</td>\n",
       "      <td>2</td>\n",
       "    </tr>\n",
       "    <tr>\n",
       "      <th>1</th>\n",
       "      <td>50</td>\n",
       "      <td>23.52</td>\n",
       "      <td>65.8</td>\n",
       "      <td>2</td>\n",
       "    </tr>\n",
       "    <tr>\n",
       "      <th>2</th>\n",
       "      <td>767</td>\n",
       "      <td>25.87</td>\n",
       "      <td>90.4</td>\n",
       "      <td>0</td>\n",
       "    </tr>\n",
       "    <tr>\n",
       "      <th>3</th>\n",
       "      <td>92</td>\n",
       "      <td>23.92</td>\n",
       "      <td>79.8</td>\n",
       "      <td>2</td>\n",
       "    </tr>\n",
       "    <tr>\n",
       "      <th>4</th>\n",
       "      <td>272</td>\n",
       "      <td>28.26</td>\n",
       "      <td>83.1</td>\n",
       "      <td>1</td>\n",
       "    </tr>\n",
       "    <tr>\n",
       "      <th>...</th>\n",
       "      <td>...</td>\n",
       "      <td>...</td>\n",
       "      <td>...</td>\n",
       "      <td>...</td>\n",
       "    </tr>\n",
       "    <tr>\n",
       "      <th>867</th>\n",
       "      <td>766</td>\n",
       "      <td>24.12</td>\n",
       "      <td>95.0</td>\n",
       "      <td>0</td>\n",
       "    </tr>\n",
       "    <tr>\n",
       "      <th>868</th>\n",
       "      <td>142</td>\n",
       "      <td>23.32</td>\n",
       "      <td>77.8</td>\n",
       "      <td>2</td>\n",
       "    </tr>\n",
       "    <tr>\n",
       "      <th>869</th>\n",
       "      <td>257</td>\n",
       "      <td>28.00</td>\n",
       "      <td>83.2</td>\n",
       "      <td>1</td>\n",
       "    </tr>\n",
       "    <tr>\n",
       "      <th>870</th>\n",
       "      <td>78</td>\n",
       "      <td>22.66</td>\n",
       "      <td>76.5</td>\n",
       "      <td>2</td>\n",
       "    </tr>\n",
       "    <tr>\n",
       "      <th>871</th>\n",
       "      <td>94</td>\n",
       "      <td>23.05</td>\n",
       "      <td>79.0</td>\n",
       "      <td>2</td>\n",
       "    </tr>\n",
       "  </tbody>\n",
       "</table>\n",
       "<p>872 rows × 4 columns</p>\n",
       "</div>"
      ],
      "text/plain": [
       "     light_intensity  temperature  humidity  label\n",
       "0                 99        23.92      73.8      2\n",
       "1                 50        23.52      65.8      2\n",
       "2                767        25.87      90.4      0\n",
       "3                 92        23.92      79.8      2\n",
       "4                272        28.26      83.1      1\n",
       "..               ...          ...       ...    ...\n",
       "867              766        24.12      95.0      0\n",
       "868              142        23.32      77.8      2\n",
       "869              257        28.00      83.2      1\n",
       "870               78        22.66      76.5      2\n",
       "871               94        23.05      79.0      2\n",
       "\n",
       "[872 rows x 4 columns]"
      ]
     },
     "execution_count": 5,
     "metadata": {},
     "output_type": "execute_result"
    }
   ],
   "source": [
    "df"
   ]
  },
  {
   "cell_type": "markdown",
   "metadata": {},
   "source": [
    "#### Train Test Split"
   ]
  },
  {
   "cell_type": "code",
   "execution_count": 6,
   "metadata": {},
   "outputs": [],
   "source": [
    "dftrain = df.sample(frac=0.8, random_state=42) #random state is a seed value\n",
    "dftest = df.drop(dftrain.index)"
   ]
  },
  {
   "cell_type": "code",
   "execution_count": 7,
   "metadata": {},
   "outputs": [],
   "source": [
    "dftrain = dftrain.reset_index(drop=True)"
   ]
  },
  {
   "cell_type": "code",
   "execution_count": 8,
   "metadata": {},
   "outputs": [],
   "source": [
    "dftest = dftest.reset_index(drop=True)"
   ]
  },
  {
   "cell_type": "code",
   "execution_count": 11,
   "metadata": {
    "scrolled": true
   },
   "outputs": [
    {
     "data": {
      "text/plain": [
       "(698, 174)"
      ]
     },
     "execution_count": 11,
     "metadata": {},
     "output_type": "execute_result"
    }
   ],
   "source": [
    "len(dftrain), len(dftest)"
   ]
  },
  {
   "cell_type": "markdown",
   "metadata": {},
   "source": [
    "#### Split training dataset by class"
   ]
  },
  {
   "cell_type": "code",
   "execution_count": 12,
   "metadata": {},
   "outputs": [],
   "source": [
    "df0 = dftrain.loc[dftrain['label'] == 0]"
   ]
  },
  {
   "cell_type": "code",
   "execution_count": 13,
   "metadata": {},
   "outputs": [],
   "source": [
    "df1 = dftrain.loc[dftrain['label'] == 1] "
   ]
  },
  {
   "cell_type": "code",
   "execution_count": 14,
   "metadata": {},
   "outputs": [],
   "source": [
    "df2 = dftrain.loc[dftrain['label'] == 2] "
   ]
  },
  {
   "cell_type": "code",
   "execution_count": 15,
   "metadata": {},
   "outputs": [
    {
     "data": {
      "text/plain": [
       "(234, 232, 232)"
      ]
     },
     "execution_count": 15,
     "metadata": {},
     "output_type": "execute_result"
    }
   ],
   "source": [
    "len(df0), len(df1), len(df2)"
   ]
  },
  {
   "cell_type": "markdown",
   "metadata": {},
   "source": [
    "#### Calculate P(y) for each class in the training dataset"
   ]
  },
  {
   "cell_type": "code",
   "execution_count": 16,
   "metadata": {},
   "outputs": [],
   "source": [
    "py0 = float(len(df0))/float(len(dftrain))"
   ]
  },
  {
   "cell_type": "code",
   "execution_count": 17,
   "metadata": {},
   "outputs": [],
   "source": [
    "py1 = float(len(df1))/float(len(dftrain))"
   ]
  },
  {
   "cell_type": "code",
   "execution_count": 18,
   "metadata": {},
   "outputs": [],
   "source": [
    "py2 = float(len(df2))/float(len(dftrain))"
   ]
  },
  {
   "cell_type": "code",
   "execution_count": 19,
   "metadata": {},
   "outputs": [
    {
     "data": {
      "text/plain": [
       "(0.335243553008596, 0.332378223495702, 0.332378223495702)"
      ]
     },
     "execution_count": 19,
     "metadata": {},
     "output_type": "execute_result"
    }
   ],
   "source": [
    "py0, py1, py2"
   ]
  },
  {
   "cell_type": "markdown",
   "metadata": {},
   "source": [
    "#### Calculate mean and standard deviation for each class in the training dataset"
   ]
  },
  {
   "cell_type": "code",
   "execution_count": 20,
   "metadata": {},
   "outputs": [],
   "source": [
    "mean0 = df0.mean(axis = 0, skipna = True)\n",
    "stdev0 = df0.std(axis = 0, skipna = True)"
   ]
  },
  {
   "cell_type": "code",
   "execution_count": 21,
   "metadata": {},
   "outputs": [],
   "source": [
    "# remove the mean and standard deviation for the 'label' column since we don't need them\n",
    "mean0 = mean0.drop(mean0.index[-1])\n",
    "stdev0 = stdev0.drop(stdev0.index[-1])"
   ]
  },
  {
   "cell_type": "code",
   "execution_count": 22,
   "metadata": {},
   "outputs": [],
   "source": [
    "mean1 = df1.mean(axis = 0, skipna = True)\n",
    "stdev1 = df1.std(axis = 0, skipna = True)"
   ]
  },
  {
   "cell_type": "code",
   "execution_count": 23,
   "metadata": {},
   "outputs": [],
   "source": [
    "mean1 = mean1.drop(mean1.index[-1])\n",
    "stdev1 = stdev1.drop(stdev1.index[-1])"
   ]
  },
  {
   "cell_type": "code",
   "execution_count": 24,
   "metadata": {},
   "outputs": [],
   "source": [
    "mean2 = df2.mean(axis = 0, skipna = True)\n",
    "stdev2= df2.std(axis = 0, skipna = True)"
   ]
  },
  {
   "cell_type": "code",
   "execution_count": 25,
   "metadata": {},
   "outputs": [],
   "source": [
    "mean2 = mean2.drop(mean2.index[-1])\n",
    "stdev2 = stdev2.drop(stdev2.index[-1])"
   ]
  },
  {
   "cell_type": "code",
   "execution_count": 26,
   "metadata": {
    "scrolled": false
   },
   "outputs": [
    {
     "name": "stdout",
     "output_type": "stream",
     "text": [
      "\n",
      "df0 Class 0 Mean \n",
      "light_intensity    729.752137\n",
      "temperature         24.759786\n",
      "humidity            93.861111\n",
      "dtype: float64 \n",
      "\n",
      "df0 Class 0 SD \n",
      "light_intensity    39.064689\n",
      "temperature         0.801466\n",
      "humidity            2.285311\n",
      "dtype: float64\n",
      "\n",
      "df1 Class 1 Mean \n",
      "light_intensity    282.103448\n",
      "temperature         29.140172\n",
      "humidity            85.312069\n",
      "dtype: float64 \n",
      "\n",
      "df1 Class 1 SD \n",
      "light_intensity    47.620229\n",
      "temperature         0.556113\n",
      "humidity            2.296248\n",
      "dtype: float64\n",
      "\n",
      "df2 Class 2 Mean \n",
      "light_intensity    88.310345\n",
      "temperature        23.064871\n",
      "humidity           73.033621\n",
      "dtype: float64 \n",
      "\n",
      "df2 Class 2 SD \n",
      "light_intensity    40.239309\n",
      "temperature         0.360026\n",
      "humidity            6.072426\n",
      "dtype: float64\n"
     ]
    }
   ],
   "source": [
    "print(\"\\ndf0 Class 0 Mean \\n{} \\n\\ndf0 Class 0 SD \\n{}\".format(mean0, stdev0))\n",
    "print(\"\\ndf1 Class 1 Mean \\n{} \\n\\ndf1 Class 1 SD \\n{}\".format(mean1, stdev1))\n",
    "print(\"\\ndf2 Class 2 Mean \\n{} \\n\\ndf2 Class 2 SD \\n{}\".format(mean2, stdev2))"
   ]
  },
  {
   "cell_type": "markdown",
   "metadata": {},
   "source": [
    "#### Calculate P(x|y) using Gaussian Probability Distribution "
   ]
  },
  {
   "cell_type": "markdown",
   "metadata": {},
   "source": [
    "P(x|y), or the probability of observing x given y, can be estimated by assuming that x is distributed in a normal/Gaussian distribution. The formula for Gaussian Probability Density Function is:"
   ]
  },
  {
   "cell_type": "markdown",
   "metadata": {},
   "source": [
    "<img src=\"img/Gaussian_pdf.png\" width=260 height=60 />"
   ]
  },
  {
   "cell_type": "code",
   "execution_count": 27,
   "metadata": {},
   "outputs": [],
   "source": [
    "def pdf_prob(x, mean, stdev):\n",
    "    exponent = exp(-0.5 * (((x-mean)/stdev)**2) )\n",
    "    prob = exponent / (stdev * sqrt(2 * pi) )\n",
    "    return prob"
   ]
  },
  {
   "cell_type": "code",
   "execution_count": 28,
   "metadata": {
    "scrolled": true
   },
   "outputs": [
    {
     "data": {
      "text/plain": [
       "0.3989422804014327"
      ]
     },
     "execution_count": 28,
     "metadata": {},
     "output_type": "execute_result"
    }
   ],
   "source": [
    "pdf_prob(1, 1, 1) # testing"
   ]
  },
  {
   "cell_type": "markdown",
   "metadata": {},
   "source": [
    "#### Calculate prediction accuracy of testing dataset (using mean and stdev from training dataset)"
   ]
  },
  {
   "cell_type": "code",
   "execution_count": 244,
   "metadata": {},
   "outputs": [],
   "source": [
    "# dftest = pd.read_csv('CleanedData.csv')\n",
    "# Test with unseen labeled data"
   ]
  },
  {
   "cell_type": "code",
   "execution_count": 30,
   "metadata": {},
   "outputs": [],
   "source": [
    "# initialise actual/predicted counters for confusion matrix\n",
    "c00 = c10 = c20 = c01 = c11 = c21 = c02 = c12 = c22 = 0"
   ]
  },
  {
   "cell_type": "code",
   "execution_count": 31,
   "metadata": {},
   "outputs": [],
   "source": [
    "for i in range(len(dftest)):\n",
    "\n",
    "#     p_xlight = pdf_prob(dftest.loc[i, 'light_intensity'], mean['light_intensity'], stdev['light_intensity'])\n",
    "#     p_xtemp = pdf_prob(dftest.loc[i, 'temperature'], mean['temperature'], stdev['temperature'])\n",
    "#     p_xhumid = pdf_prob(dftest.loc[i, 'humidity'], mean['humidity'], stdev['humidity'])\n",
    "    \n",
    "    p_xlight_y0 = pdf_prob(dftest.loc[i, 'light_intensity'], mean0['light_intensity'], stdev0['light_intensity'])\n",
    "    p_xtemp_y0 = pdf_prob(dftest.loc[i, 'temperature'], mean0['temperature'], stdev0['temperature'])\n",
    "    p_xhumid_y0 = pdf_prob(dftest.loc[i, 'humidity'], mean0['humidity'], stdev0['humidity'])\n",
    "    \n",
    "    p_xlight_y1 = pdf_prob(dftest.loc[i, 'light_intensity'], mean1['light_intensity'], stdev1['light_intensity'])\n",
    "    p_xtemp_y1 = pdf_prob(dftest.loc[i, 'temperature'], mean1['temperature'], stdev1['temperature'])\n",
    "    p_xhumid_y1 = pdf_prob(dftest.loc[i, 'humidity'], mean1['humidity'], stdev1['humidity'])\n",
    "\n",
    "    p_xlight_y2 = pdf_prob(dftest.loc[i, 'light_intensity'], mean2['light_intensity'], stdev2['light_intensity'])\n",
    "    p_xtemp_y2 = pdf_prob(dftest.loc[i, 'temperature'], mean2['temperature'], stdev2['temperature'])\n",
    "    p_xhumid_y2 = pdf_prob(dftest.loc[i, 'humidity'], mean2['humidity'], stdev2['humidity'])\n",
    "\n",
    "    pyx0 = p_xlight_y0 * p_xtemp_y0 * p_xhumid_y0 * py0\n",
    "    pyx1 = p_xlight_y1 * p_xtemp_y1 * p_xhumid_y1 * py1\n",
    "    pyx2 = p_xlight_y2 * p_xtemp_y2 * p_xhumid_y2 * py2\n",
    "    \n",
    "#     px = p_xlight * p_xtemp * p_xhumid    \n",
    "#     pyx0 = p_xlight_y0 * p_xtemp_y0 * p_xhumid_y0 * py0 / px\n",
    "#     pyx1 = p_xlight_y1 * p_xtemp_y1 * p_xhumid_y1 * py1 / px\n",
    "#     pyx2 = p_xlight_y2 * p_xtemp_y2 * p_xhumid_y2 * py2 / px\n",
    "    \n",
    "    infer_dict = {pyx0:0, pyx1:1, pyx2:2}\n",
    "    dftest.loc[i, 'predicted_class'] = infer_dict[max(pyx0, pyx1, pyx2)]\n",
    "    dftest.loc[i, 'probability'] = max(pyx0, pyx1, pyx2)\n",
    "#     df.loc[i, 'probability'] = round(max(pyx0, pyx1, pyx2), 2)\n",
    "    \n",
    "    if dftest.loc[i, 'predicted_class'] == 0:\n",
    "        if dftest.loc[i, 'label'] == 0:\n",
    "            c00 = c00 + 1\n",
    "        elif dftest.loc[i, 'label'] == 1:\n",
    "            c10 = c10 + 1\n",
    "        elif dftest.loc[i, 'label'] == 2:\n",
    "            c20 = c20 + 1\n",
    "            \n",
    "    elif dftest.loc[i, 'predicted_class'] == 1:\n",
    "        if dftest.loc[i, 'label'] == 0:\n",
    "            c01 = c01 + 1\n",
    "        elif dftest.loc[i, 'label'] == 1:\n",
    "            c11 = c11 + 1\n",
    "        elif dftest.loc[i, 'label'] == 2:\n",
    "            c21 = c21 + 1\n",
    "            \n",
    "    elif dftest.loc[i, 'predicted_class'] == 2:\n",
    "        if dftest.loc[i, 'label'] == 0:\n",
    "            c02 = c02 + 1\n",
    "        elif dftest.loc[i, 'label'] == 1:\n",
    "            c12 = c12 + 1\n",
    "        elif dftest.loc[i, 'label'] == 2:\n",
    "            c22 = c22 + 1"
   ]
  },
  {
   "cell_type": "code",
   "execution_count": 32,
   "metadata": {},
   "outputs": [],
   "source": [
    "dftest = dftest.astype({\"predicted_class\": int})"
   ]
  },
  {
   "cell_type": "code",
   "execution_count": 33,
   "metadata": {
    "scrolled": true
   },
   "outputs": [
    {
     "data": {
      "text/plain": [
       "light_intensity      int64\n",
       "temperature        float64\n",
       "humidity           float64\n",
       "label                int64\n",
       "predicted_class      int32\n",
       "probability        float64\n",
       "dtype: object"
      ]
     },
     "execution_count": 33,
     "metadata": {},
     "output_type": "execute_result"
    }
   ],
   "source": [
    "dftest.dtypes"
   ]
  },
  {
   "cell_type": "code",
   "execution_count": 34,
   "metadata": {
    "scrolled": true
   },
   "outputs": [
    {
     "data": {
      "text/html": [
       "<div>\n",
       "<style scoped>\n",
       "    .dataframe tbody tr th:only-of-type {\n",
       "        vertical-align: middle;\n",
       "    }\n",
       "\n",
       "    .dataframe tbody tr th {\n",
       "        vertical-align: top;\n",
       "    }\n",
       "\n",
       "    .dataframe thead th {\n",
       "        text-align: right;\n",
       "    }\n",
       "</style>\n",
       "<table border=\"1\" class=\"dataframe\">\n",
       "  <thead>\n",
       "    <tr style=\"text-align: right;\">\n",
       "      <th></th>\n",
       "      <th>light_intensity</th>\n",
       "      <th>temperature</th>\n",
       "      <th>humidity</th>\n",
       "      <th>label</th>\n",
       "      <th>predicted_class</th>\n",
       "      <th>probability</th>\n",
       "    </tr>\n",
       "  </thead>\n",
       "  <tbody>\n",
       "    <tr>\n",
       "      <th>0</th>\n",
       "      <td>492</td>\n",
       "      <td>31.62</td>\n",
       "      <td>85.5</td>\n",
       "      <td>1</td>\n",
       "      <td>1</td>\n",
       "      <td>1.005341e-12</td>\n",
       "    </tr>\n",
       "    <tr>\n",
       "      <th>1</th>\n",
       "      <td>569</td>\n",
       "      <td>31.53</td>\n",
       "      <td>85.5</td>\n",
       "      <td>1</td>\n",
       "      <td>1</td>\n",
       "      <td>4.436465e-16</td>\n",
       "    </tr>\n",
       "    <tr>\n",
       "      <th>2</th>\n",
       "      <td>415</td>\n",
       "      <td>31.70</td>\n",
       "      <td>85.6</td>\n",
       "      <td>1</td>\n",
       "      <td>1</td>\n",
       "      <td>1.757052e-10</td>\n",
       "    </tr>\n",
       "    <tr>\n",
       "      <th>3</th>\n",
       "      <td>331</td>\n",
       "      <td>31.54</td>\n",
       "      <td>85.5</td>\n",
       "      <td>1</td>\n",
       "      <td>1</td>\n",
       "      <td>1.845872e-08</td>\n",
       "    </tr>\n",
       "    <tr>\n",
       "      <th>4</th>\n",
       "      <td>403</td>\n",
       "      <td>31.57</td>\n",
       "      <td>85.5</td>\n",
       "      <td>1</td>\n",
       "      <td>1</td>\n",
       "      <td>9.858849e-10</td>\n",
       "    </tr>\n",
       "    <tr>\n",
       "      <th>...</th>\n",
       "      <td>...</td>\n",
       "      <td>...</td>\n",
       "      <td>...</td>\n",
       "      <td>...</td>\n",
       "      <td>...</td>\n",
       "      <td>...</td>\n",
       "    </tr>\n",
       "    <tr>\n",
       "      <th>121</th>\n",
       "      <td>754</td>\n",
       "      <td>27.74</td>\n",
       "      <td>99.6</td>\n",
       "      <td>0</td>\n",
       "      <td>0</td>\n",
       "      <td>1.042253e-08</td>\n",
       "    </tr>\n",
       "    <tr>\n",
       "      <th>122</th>\n",
       "      <td>759</td>\n",
       "      <td>27.62</td>\n",
       "      <td>99.9</td>\n",
       "      <td>0</td>\n",
       "      <td>0</td>\n",
       "      <td>1.174703e-08</td>\n",
       "    </tr>\n",
       "    <tr>\n",
       "      <th>123</th>\n",
       "      <td>764</td>\n",
       "      <td>27.75</td>\n",
       "      <td>99.9</td>\n",
       "      <td>0</td>\n",
       "      <td>0</td>\n",
       "      <td>5.856594e-09</td>\n",
       "    </tr>\n",
       "    <tr>\n",
       "      <th>124</th>\n",
       "      <td>768</td>\n",
       "      <td>27.50</td>\n",
       "      <td>99.4</td>\n",
       "      <td>0</td>\n",
       "      <td>0</td>\n",
       "      <td>2.827285e-08</td>\n",
       "    </tr>\n",
       "    <tr>\n",
       "      <th>125</th>\n",
       "      <td>773</td>\n",
       "      <td>27.50</td>\n",
       "      <td>99.9</td>\n",
       "      <td>0</td>\n",
       "      <td>0</td>\n",
       "      <td>1.421338e-08</td>\n",
       "    </tr>\n",
       "  </tbody>\n",
       "</table>\n",
       "<p>126 rows × 6 columns</p>\n",
       "</div>"
      ],
      "text/plain": [
       "     light_intensity  temperature  humidity  label  predicted_class  \\\n",
       "0                492        31.62      85.5      1                1   \n",
       "1                569        31.53      85.5      1                1   \n",
       "2                415        31.70      85.6      1                1   \n",
       "3                331        31.54      85.5      1                1   \n",
       "4                403        31.57      85.5      1                1   \n",
       "..               ...          ...       ...    ...              ...   \n",
       "121              754        27.74      99.6      0                0   \n",
       "122              759        27.62      99.9      0                0   \n",
       "123              764        27.75      99.9      0                0   \n",
       "124              768        27.50      99.4      0                0   \n",
       "125              773        27.50      99.9      0                0   \n",
       "\n",
       "      probability  \n",
       "0    1.005341e-12  \n",
       "1    4.436465e-16  \n",
       "2    1.757052e-10  \n",
       "3    1.845872e-08  \n",
       "4    9.858849e-10  \n",
       "..            ...  \n",
       "121  1.042253e-08  \n",
       "122  1.174703e-08  \n",
       "123  5.856594e-09  \n",
       "124  2.827285e-08  \n",
       "125  1.421338e-08  \n",
       "\n",
       "[126 rows x 6 columns]"
      ]
     },
     "execution_count": 34,
     "metadata": {},
     "output_type": "execute_result"
    }
   ],
   "source": [
    "dftest"
   ]
  },
  {
   "cell_type": "code",
   "execution_count": 35,
   "metadata": {},
   "outputs": [
    {
     "data": {
      "text/plain": [
       "0.0002136095540132183"
      ]
     },
     "execution_count": 35,
     "metadata": {},
     "output_type": "execute_result"
    }
   ],
   "source": [
    "max(dftest['probability'])"
   ]
  },
  {
   "cell_type": "code",
   "execution_count": 36,
   "metadata": {},
   "outputs": [
    {
     "data": {
      "text/plain": [
       "4.4364646409081524e-16"
      ]
     },
     "execution_count": 36,
     "metadata": {},
     "output_type": "execute_result"
    }
   ],
   "source": [
    "min(dftest['probability'])"
   ]
  },
  {
   "cell_type": "code",
   "execution_count": 37,
   "metadata": {},
   "outputs": [
    {
     "data": {
      "text/plain": [
       "(91, 0, 0, 0, 14, 0, 0, 0, 21)"
      ]
     },
     "execution_count": 37,
     "metadata": {},
     "output_type": "execute_result"
    }
   ],
   "source": [
    "c00, c10, c20, c01, c11, c21, c02, c12, c22"
   ]
  },
  {
   "cell_type": "code",
   "execution_count": 38,
   "metadata": {
    "scrolled": true
   },
   "outputs": [
    {
     "name": "stdout",
     "output_type": "stream",
     "text": [
      "\u001b[1m\n",
      " ****** CONFUSION MATRIX ******\u001b[0m\n",
      "\n",
      "                 Predicted\n",
      "\n",
      "               0      1     2\n",
      "\n",
      "         0     91    0     0\n",
      "\n",
      " Actual  1     0    14     0\n",
      "\n",
      "         2     0    0     21\n",
      "\n",
      "\n"
     ]
    }
   ],
   "source": [
    "print ('\\033[1m' + '\\n ****** CONFUSION MATRIX ******' + '\\033[0m' )\n",
    "print ('\\n                 Predicted' )\n",
    "print ('\\n               0      1     2' )\n",
    "print ('\\n         0     {}    {}     {}'.format(c00, c01, c02) )\n",
    "print ('\\n Actual  1     {}    {}     {}'.format(c10, c11, c12) )\n",
    "print ('\\n         2     {}    {}     {}'.format(c20, c21, c22) )\n",
    "print ('\\n')"
   ]
  },
  {
   "cell_type": "code",
   "execution_count": 39,
   "metadata": {},
   "outputs": [],
   "source": [
    "accuracy = float(c00+c11+c22)/len(dftest)*100\n",
    "accuracy = round(accuracy, 2)\n",
    "falsealarm = float(c10 + c20 + c01 + c21 + c02 + c12)/len(dftest)*100\n",
    "falsealarm = round(falsealarm, 2)"
   ]
  },
  {
   "cell_type": "code",
   "execution_count": 40,
   "metadata": {},
   "outputs": [
    {
     "name": "stdout",
     "output_type": "stream",
     "text": [
      "Accuracy = 100.0 %\n",
      "False Alarm Rate = 0.0 %\n"
     ]
    }
   ],
   "source": [
    "print ('Accuracy =', accuracy,'%')\n",
    "print ('False Alarm Rate =', falsealarm,'%')"
   ]
  },
  {
   "cell_type": "code",
   "execution_count": 41,
   "metadata": {},
   "outputs": [
    {
     "data": {
      "text/plain": [
       "True"
      ]
     },
     "execution_count": 41,
     "metadata": {},
     "output_type": "execute_result"
    }
   ],
   "source": [
    "c00 + c10 + c20 + c01 + c11 + c21 + c02 + c12 + c22 == len(dftest)\n",
    "# sanity check"
   ]
  },
  {
   "cell_type": "markdown",
   "metadata": {},
   "source": [
    "#### Infer class for new data"
   ]
  },
  {
   "cell_type": "code",
   "execution_count": 42,
   "metadata": {},
   "outputs": [],
   "source": [
    "# Class 0 Optimal [light, temp, humidity]\n",
    "sensorReadings = [771, 27, 97]"
   ]
  },
  {
   "cell_type": "code",
   "execution_count": 322,
   "metadata": {},
   "outputs": [],
   "source": [
    "# Class 0 Optimal [light, temp, humidity]\n",
    "sensorReadings = [360, 27, 97]"
   ]
  },
  {
   "cell_type": "code",
   "execution_count": 71,
   "metadata": {},
   "outputs": [],
   "source": [
    "# Class 1 Sub Optimal [light, temp, humidity]\n",
    "sensorReadings = [290, 30, 90]"
   ]
  },
  {
   "cell_type": "code",
   "execution_count": 83,
   "metadata": {},
   "outputs": [],
   "source": [
    "# Class 2 Bad [light, temp, humidity]\n",
    "sensorReadings = [200, 25, 85]"
   ]
  },
  {
   "cell_type": "markdown",
   "metadata": {},
   "source": [
    "#### Calculate P(x|y) for new data (using mean and stdev from training dataset)"
   ]
  },
  {
   "cell_type": "code",
   "execution_count": 43,
   "metadata": {},
   "outputs": [],
   "source": [
    "p_xlight_y0 = pdf_prob(sensorReadings[0], mean0['light_intensity'], stdev0['light_intensity'])\n",
    "p_xtemp_y0 = pdf_prob(sensorReadings[1], mean0['temperature'], stdev0['temperature'])\n",
    "p_xhumid_y0 = pdf_prob(sensorReadings[2], mean0['humidity'], stdev0['humidity'])"
   ]
  },
  {
   "cell_type": "code",
   "execution_count": 44,
   "metadata": {},
   "outputs": [],
   "source": [
    "p_xlight_y1 = pdf_prob(sensorReadings[0], mean1['light_intensity'], stdev1['light_intensity'])\n",
    "p_xtemp_y1 = pdf_prob(sensorReadings[1], mean1['temperature'], stdev1['temperature'])\n",
    "p_xhumid_y1 = pdf_prob(sensorReadings[2], mean1['humidity'], stdev1['humidity'])"
   ]
  },
  {
   "cell_type": "code",
   "execution_count": 45,
   "metadata": {},
   "outputs": [],
   "source": [
    "p_xlight_y2 = pdf_prob(sensorReadings[0], mean2['light_intensity'], stdev2['light_intensity'])\n",
    "p_xtemp_y2 = pdf_prob(sensorReadings[1], mean2['temperature'], stdev2['temperature'])\n",
    "p_xhumid_y2 = pdf_prob(sensorReadings[2], mean2['humidity'], stdev2['humidity'])"
   ]
  },
  {
   "cell_type": "code",
   "execution_count": 46,
   "metadata": {},
   "outputs": [
    {
     "data": {
      "text/plain": [
       "(0.005848294155191346, 0.010011241518495705, 0.06796920729126)"
      ]
     },
     "execution_count": 46,
     "metadata": {},
     "output_type": "execute_result"
    }
   ],
   "source": [
    "p_xlight_y0, p_xtemp_y0, p_xhumid_y0"
   ]
  },
  {
   "cell_type": "code",
   "execution_count": 47,
   "metadata": {},
   "outputs": [
    {
     "data": {
      "text/plain": [
       "(1.0845574620055595e-25, 0.00043618724097817523, 4.1114067488576334e-07)"
      ]
     },
     "execution_count": 47,
     "metadata": {},
     "output_type": "execute_result"
    }
   ],
   "source": [
    "p_xlight_y1, p_xtemp_y1, p_xhumid_y1"
   ]
  },
  {
   "cell_type": "code",
   "execution_count": 48,
   "metadata": {},
   "outputs": [
    {
     "data": {
      "text/plain": [
       "(3.1145331808128705e-65, 1.2663953143333386e-26, 2.723155072361637e-05)"
      ]
     },
     "execution_count": 48,
     "metadata": {},
     "output_type": "execute_result"
    }
   ],
   "source": [
    "p_xlight_y2, p_xtemp_y2, p_xhumid_y2"
   ]
  },
  {
   "cell_type": "markdown",
   "metadata": {},
   "source": [
    "#### Find P(y|x) with the highest probability"
   ]
  },
  {
   "cell_type": "code",
   "execution_count": 49,
   "metadata": {},
   "outputs": [],
   "source": [
    "pyx0 = p_xlight_y0 * p_xtemp_y0 * p_xhumid_y0 * py0\n",
    "pyx1 = p_xlight_y1 * p_xtemp_y1 * p_xhumid_y1 * py1\n",
    "pyx2 = p_xlight_y2 * p_xtemp_y2 * p_xhumid_y2 * py2"
   ]
  },
  {
   "cell_type": "code",
   "execution_count": 50,
   "metadata": {},
   "outputs": [],
   "source": [
    "infer_dict = {pyx0:0, pyx1:1, pyx2:2}"
   ]
  },
  {
   "cell_type": "code",
   "execution_count": 51,
   "metadata": {
    "scrolled": true
   },
   "outputs": [
    {
     "data": {
      "text/plain": [
       "{1.334104308950124e-06: 0, 6.464702312458971e-36: 1, 3.5699915861222233e-96: 2}"
      ]
     },
     "execution_count": 51,
     "metadata": {},
     "output_type": "execute_result"
    }
   ],
   "source": [
    "infer_dict"
   ]
  },
  {
   "cell_type": "code",
   "execution_count": 54,
   "metadata": {},
   "outputs": [],
   "source": [
    "inferred_class = infer_dict[max(pyx0, pyx1, pyx2)]"
   ]
  },
  {
   "cell_type": "code",
   "execution_count": 55,
   "metadata": {},
   "outputs": [
    {
     "data": {
      "text/plain": [
       "0"
      ]
     },
     "execution_count": 55,
     "metadata": {},
     "output_type": "execute_result"
    }
   ],
   "source": [
    "inferred_class"
   ]
  },
  {
   "cell_type": "code",
   "execution_count": 57,
   "metadata": {},
   "outputs": [],
   "source": [
    "label_dict = {0:'Perfect!', 1:\"Sub optimal\", 2:\"Bad\"}"
   ]
  },
  {
   "cell_type": "code",
   "execution_count": 58,
   "metadata": {},
   "outputs": [],
   "source": [
    "label = label_dict[inferred_class]"
   ]
  },
  {
   "cell_type": "code",
   "execution_count": 59,
   "metadata": {},
   "outputs": [
    {
     "data": {
      "text/plain": [
       "'Perfect!'"
      ]
     },
     "execution_count": 59,
     "metadata": {},
     "output_type": "execute_result"
    }
   ],
   "source": [
    "label"
   ]
  }
 ],
 "metadata": {
  "kernelspec": {
   "display_name": "Python 3",
   "language": "python",
   "name": "python3"
  },
  "language_info": {
   "codemirror_mode": {
    "name": "ipython",
    "version": 3
   },
   "file_extension": ".py",
   "mimetype": "text/x-python",
   "name": "python",
   "nbconvert_exporter": "python",
   "pygments_lexer": "ipython3",
   "version": "3.7.6"
  }
 },
 "nbformat": 4,
 "nbformat_minor": 2
}
